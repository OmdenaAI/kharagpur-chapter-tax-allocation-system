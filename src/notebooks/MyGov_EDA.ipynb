{
 "cells": [
  {
   "cell_type": "markdown",
   "id": "10fc2895",
   "metadata": {},
   "source": [
    "**Import libraries**"
   ]
  },
  {
   "cell_type": "code",
   "execution_count": 1,
   "id": "ccca482d",
   "metadata": {},
   "outputs": [],
   "source": [
    "import os\n",
    "import pandas as pd"
   ]
  },
  {
   "cell_type": "markdown",
   "id": "b2b12158",
   "metadata": {},
   "source": [
    "**Load dataset: MyGOV**"
   ]
  },
  {
   "cell_type": "code",
   "execution_count": 2,
   "id": "eb091927",
   "metadata": {},
   "outputs": [],
   "source": [
    "raw_data_path= \"../data/raw/mygov_23_01_2023.xlsx\""
   ]
  },
  {
   "cell_type": "code",
   "execution_count": 3,
   "id": "11cb29fb",
   "metadata": {},
   "outputs": [
    {
     "name": "stdout",
     "output_type": "stream",
     "text": [
      "File Found\n"
     ]
    }
   ],
   "source": [
    "# Check if file is in specified directory and its availability\n",
    "isFile = os.path.isfile(raw_data_path)\n",
    "if isFile:\n",
    "    print(\"File Found\")\n",
    "else:\n",
    "    print(\"File not found, please check the path again.\")"
   ]
  },
  {
   "cell_type": "code",
   "execution_count": 9,
   "id": "b2307278",
   "metadata": {},
   "outputs": [
    {
     "data": {
      "text/html": [
       "<div>\n",
       "<style scoped>\n",
       "    .dataframe tbody tr th:only-of-type {\n",
       "        vertical-align: middle;\n",
       "    }\n",
       "\n",
       "    .dataframe tbody tr th {\n",
       "        vertical-align: top;\n",
       "    }\n",
       "\n",
       "    .dataframe thead th {\n",
       "        text-align: right;\n",
       "    }\n",
       "</style>\n",
       "<table border=\"1\" class=\"dataframe\">\n",
       "  <thead>\n",
       "    <tr style=\"text-align: right;\">\n",
       "      <th></th>\n",
       "      <th>User Name</th>\n",
       "      <th>Suggestion</th>\n",
       "    </tr>\n",
       "  </thead>\n",
       "  <tbody>\n",
       "    <tr>\n",
       "      <th>1</th>\n",
       "      <td>Sunita-</td>\n",
       "      <td>The reservation policy of implementation of 10...</td>\n",
       "    </tr>\n",
       "    <tr>\n",
       "      <th>2</th>\n",
       "      <td>AnkilShah</td>\n",
       "      <td>For Budget 2023-24\\nII thnk govt.should lookin...</td>\n",
       "    </tr>\n",
       "    <tr>\n",
       "      <th>3</th>\n",
       "      <td>Vikash Kumar</td>\n",
       "      <td>Student ko sabhi jagah dikat aati hai</td>\n",
       "    </tr>\n",
       "    <tr>\n",
       "      <th>4</th>\n",
       "      <td>Vikash Kumar</td>\n",
       "      <td>Agriculture Me Jo paisa sabhi ko milta hai vo ...</td>\n",
       "    </tr>\n",
       "    <tr>\n",
       "      <th>5</th>\n",
       "      <td>Manish J</td>\n",
       "      <td>सबसे पहले सरकार से अर्जी है की आप आरक्षण पढ़ने...</td>\n",
       "    </tr>\n",
       "  </tbody>\n",
       "</table>\n",
       "</div>"
      ],
      "text/plain": [
       "      User Name                                         Suggestion\n",
       "1       Sunita-  The reservation policy of implementation of 10...\n",
       "2     AnkilShah  For Budget 2023-24\\nII thnk govt.should lookin...\n",
       "3  Vikash Kumar              Student ko sabhi jagah dikat aati hai\n",
       "4  Vikash Kumar  Agriculture Me Jo paisa sabhi ko milta hai vo ...\n",
       "5      Manish J  सबसे पहले सरकार से अर्जी है की आप आरक्षण पढ़ने..."
      ]
     },
     "execution_count": 9,
     "metadata": {},
     "output_type": "execute_result"
    }
   ],
   "source": [
    "# Read file in dataframe\n",
    "df = pd.read_excel(raw_data_path)\n",
    "df.dropna(inplace=True)\n",
    "df.head()"
   ]
  },
  {
   "cell_type": "code",
   "execution_count": null,
   "id": "21ef69a0",
   "metadata": {},
   "outputs": [],
   "source": []
  }
 ],
 "metadata": {
  "kernelspec": {
   "display_name": "Python 3 (ipykernel)",
   "language": "python",
   "name": "python3"
  },
  "language_info": {
   "codemirror_mode": {
    "name": "ipython",
    "version": 3
   },
   "file_extension": ".py",
   "mimetype": "text/x-python",
   "name": "python",
   "nbconvert_exporter": "python",
   "pygments_lexer": "ipython3",
   "version": "3.10.10"
  }
 },
 "nbformat": 4,
 "nbformat_minor": 5
}
