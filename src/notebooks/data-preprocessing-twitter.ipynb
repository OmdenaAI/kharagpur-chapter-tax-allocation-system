{
 "cells": [
  {
   "cell_type": "code",
   "execution_count": 1,
   "id": "a01cf35d",
   "metadata": {
    "_cell_guid": "b1076dfc-b9ad-4769-8c92-a6c4dae69d19",
    "_uuid": "8f2839f25d086af736a60e9eeb907d3b93b6e0e5",
    "execution": {
     "iopub.execute_input": "2022-12-05T04:02:46.431593Z",
     "iopub.status.busy": "2022-12-05T04:02:46.431153Z",
     "iopub.status.idle": "2022-12-05T04:02:56.946483Z",
     "shell.execute_reply": "2022-12-05T04:02:56.945543Z"
    },
    "papermill": {
     "duration": 10.523823,
     "end_time": "2022-12-05T04:02:56.949305",
     "exception": false,
     "start_time": "2022-12-05T04:02:46.425482",
     "status": "completed"
    },
    "tags": []
   },
   "outputs": [],
   "source": [
    "import numpy as np\n",
    "import pandas as pd\n",
    "import re\n",
    "import spacy"
   ]
  },
  {
   "cell_type": "code",
   "execution_count": 2,
   "id": "e7616183",
   "metadata": {
    "execution": {
     "iopub.execute_input": "2022-12-05T04:02:56.957510Z",
     "iopub.status.busy": "2022-12-05T04:02:56.956520Z",
     "iopub.status.idle": "2022-12-05T04:03:02.070011Z",
     "shell.execute_reply": "2022-12-05T04:03:02.068664Z"
    },
    "papermill": {
     "duration": 5.120128,
     "end_time": "2022-12-05T04:03:02.072599",
     "exception": false,
     "start_time": "2022-12-05T04:02:56.952471",
     "status": "completed"
    },
    "tags": []
   },
   "outputs": [
    {
     "data": {
      "text/html": [
       "<div>\n",
       "<style scoped>\n",
       "    .dataframe tbody tr th:only-of-type {\n",
       "        vertical-align: middle;\n",
       "    }\n",
       "\n",
       "    .dataframe tbody tr th {\n",
       "        vertical-align: top;\n",
       "    }\n",
       "\n",
       "    .dataframe thead th {\n",
       "        text-align: right;\n",
       "    }\n",
       "</style>\n",
       "<table border=\"1\" class=\"dataframe\">\n",
       "  <thead>\n",
       "    <tr style=\"text-align: right;\">\n",
       "      <th></th>\n",
       "      <th>tweets</th>\n",
       "      <th>labels</th>\n",
       "    </tr>\n",
       "  </thead>\n",
       "  <tbody>\n",
       "    <tr>\n",
       "      <th>0</th>\n",
       "      <td>@IvorMectin1 He clearly hates white people. Mi...</td>\n",
       "      <td>no_poverty</td>\n",
       "    </tr>\n",
       "    <tr>\n",
       "      <th>1</th>\n",
       "      <td>@vinodkapri New India, hide d poor =poverty va...</td>\n",
       "      <td>no_poverty</td>\n",
       "    </tr>\n",
       "    <tr>\n",
       "      <th>2</th>\n",
       "      <td>Nehru till date remains the best PM of despite...</td>\n",
       "      <td>no_poverty</td>\n",
       "    </tr>\n",
       "    <tr>\n",
       "      <th>3</th>\n",
       "      <td>@QuestioningBird What is there for superiority...</td>\n",
       "      <td>no_poverty</td>\n",
       "    </tr>\n",
       "    <tr>\n",
       "      <th>4</th>\n",
       "      <td>It is too late lakhs of shareholders life time...</td>\n",
       "      <td>no_poverty</td>\n",
       "    </tr>\n",
       "  </tbody>\n",
       "</table>\n",
       "</div>"
      ],
      "text/plain": [
       "                                              tweets      labels\n",
       "0  @IvorMectin1 He clearly hates white people. Mi...  no_poverty\n",
       "1  @vinodkapri New India, hide d poor =poverty va...  no_poverty\n",
       "2  Nehru till date remains the best PM of despite...  no_poverty\n",
       "3  @QuestioningBird What is there for superiority...  no_poverty\n",
       "4  It is too late lakhs of shareholders life time...  no_poverty"
      ]
     },
     "execution_count": 2,
     "metadata": {},
     "output_type": "execute_result"
    }
   ],
   "source": [
    "# Importing the data\n",
    "tweets = pd.read_csv('https://raw.githubusercontent.com/Deepakvk18/Twitter-Web-Scraping/main/Twitter%20Complaints%20and%20Requests%20India.csv')\n",
    "tweets.head()"
   ]
  },
  {
   "cell_type": "code",
   "execution_count": 3,
   "id": "e3f3f96e",
   "metadata": {
    "execution": {
     "iopub.execute_input": "2022-12-05T04:03:02.081601Z",
     "iopub.status.busy": "2022-12-05T04:03:02.080710Z",
     "iopub.status.idle": "2022-12-05T04:03:02.087818Z",
     "shell.execute_reply": "2022-12-05T04:03:02.086663Z"
    },
    "papermill": {
     "duration": 0.013985,
     "end_time": "2022-12-05T04:03:02.090186",
     "exception": false,
     "start_time": "2022-12-05T04:03:02.076201",
     "status": "completed"
    },
    "tags": []
   },
   "outputs": [
    {
     "data": {
      "text/plain": [
       "(170349, 2)"
      ]
     },
     "execution_count": 3,
     "metadata": {},
     "output_type": "execute_result"
    }
   ],
   "source": [
    "tweets.shape"
   ]
  },
  {
   "cell_type": "code",
   "execution_count": 4,
   "id": "ffeef555",
   "metadata": {
    "execution": {
     "iopub.execute_input": "2022-12-05T04:03:02.097700Z",
     "iopub.status.busy": "2022-12-05T04:03:02.097359Z",
     "iopub.status.idle": "2022-12-05T04:03:02.922305Z",
     "shell.execute_reply": "2022-12-05T04:03:02.921282Z"
    },
    "papermill": {
     "duration": 0.831619,
     "end_time": "2022-12-05T04:03:02.924965",
     "exception": false,
     "start_time": "2022-12-05T04:03:02.093346",
     "status": "completed"
    },
    "tags": []
   },
   "outputs": [],
   "source": [
    "nlp = spacy.load('en_core_web_sm')\n",
    "\n",
    "# Text Pre-processing\n",
    "def preprocess(text):\n",
    "    \n",
    "    \"\"\"This function return the text after performing text cleaning which includes \n",
    "    removing punctuations, stopwords, urls and cleans the hashtags\n",
    "    text - String to be cleaned\n",
    "    Returns string\"\"\"\n",
    "    \n",
    "    doc = nlp(text)\n",
    "    \n",
    "    # List to store the tokens that are filtered and cleaned\n",
    "    filtered_tokens = []\n",
    "    for token in doc:\n",
    "        \n",
    "        # If token is not a punctuation, not a url,        not a stopword           not a mention of another twitter handle      is only text\n",
    "        if not token.is_punct and not token.like_url and not token.is_stop and not re.match('.*@[A-Za-z0-9_]+', token.text) and token.is_alpha:\n",
    "            filtered_tokens.append(token.lemma_.strip().lower())\n",
    "            \n",
    "    return ' '.join(filtered_tokens)"
   ]
  },
  {
   "cell_type": "code",
   "execution_count": 5,
   "id": "772943fd",
   "metadata": {
    "execution": {
     "iopub.execute_input": "2022-12-05T04:03:02.933030Z",
     "iopub.status.busy": "2022-12-05T04:03:02.932642Z",
     "iopub.status.idle": "2022-12-05T04:03:02.976662Z",
     "shell.execute_reply": "2022-12-05T04:03:02.975033Z"
    },
    "papermill": {
     "duration": 0.050827,
     "end_time": "2022-12-05T04:03:02.979116",
     "exception": false,
     "start_time": "2022-12-05T04:03:02.928289",
     "status": "completed"
    },
    "tags": []
   },
   "outputs": [
    {
     "name": "stdout",
     "output_type": "stream",
     "text": [
      "@BSNLCorporate @DoT_India @TRAI @Consumer2Court Internet is fixed now. I still dont know whether its a temporary fix or solid one. Pls humble request to @BSNLCorporate Get things cleared as this is affecting my image in my workplace. Due to internet issues. I'm not able to attend meetings, &amp; dealay deadlines, deliverable 🙏🙏\n",
      "=============================================================================================================\n",
      "After Preprocessing\n",
      "=============================================================================================================\n",
      "internet fix not know temporary fix solid pls humble request thing clear affect image workplace internet issue able attend meeting amp dealay deadline deliverable\n"
     ]
    }
   ],
   "source": [
    "sample_tweet = tweets.tweets.sample(1).values[0]\n",
    "print(sample_tweet)\n",
    "print(\"=============================================================================================================\")\n",
    "print(\"After Preprocessing\")\n",
    "print(\"=============================================================================================================\")\n",
    "print(preprocess(sample_tweet))"
   ]
  },
  {
   "cell_type": "code",
   "execution_count": 6,
   "id": "a4e19fed",
   "metadata": {
    "execution": {
     "iopub.execute_input": "2022-12-05T04:03:02.987185Z",
     "iopub.status.busy": "2022-12-05T04:03:02.986489Z",
     "iopub.status.idle": "2022-12-05T04:36:47.726146Z",
     "shell.execute_reply": "2022-12-05T04:36:47.725054Z"
    },
    "papermill": {
     "duration": 2024.749907,
     "end_time": "2022-12-05T04:36:47.732351",
     "exception": false,
     "start_time": "2022-12-05T04:03:02.982444",
     "status": "completed"
    },
    "tags": []
   },
   "outputs": [
    {
     "name": "stdout",
     "output_type": "stream",
     "text": [
      "CPU times: user 33min 42s, sys: 1.57 s, total: 33min 43s\n",
      "Wall time: 33min 44s\n"
     ]
    },
    {
     "data": {
      "text/plain": [
       "0    clearly hate white people million india live c...\n",
       "1    new india hide d poor poverty vanish burn d ra...\n",
       "2    nehru till date remain good pm despite flaw co...\n",
       "3    superiority complex like state india develop b...\n",
       "4    late lakh shareholder life time poverty office...\n",
       "Name: tweets, dtype: object"
      ]
     },
     "execution_count": 6,
     "metadata": {},
     "output_type": "execute_result"
    }
   ],
   "source": [
    "%%time\n",
    "processed_tweets = tweets['tweets'].apply(preprocess)\n",
    "processed_tweets[:5]"
   ]
  },
  {
   "cell_type": "code",
   "execution_count": 7,
   "id": "f3114807",
   "metadata": {
    "execution": {
     "iopub.execute_input": "2022-12-05T04:36:47.741906Z",
     "iopub.status.busy": "2022-12-05T04:36:47.740785Z",
     "iopub.status.idle": "2022-12-05T04:36:47.879116Z",
     "shell.execute_reply": "2022-12-05T04:36:47.878256Z"
    },
    "papermill": {
     "duration": 0.145456,
     "end_time": "2022-12-05T04:36:47.881553",
     "exception": false,
     "start_time": "2022-12-05T04:36:47.736097",
     "status": "completed"
    },
    "tags": []
   },
   "outputs": [
    {
     "name": "stdout",
     "output_type": "stream",
     "text": [
      "(170349, 2)\n",
      "(131778, 2)\n"
     ]
    }
   ],
   "source": [
    "processed_df = pd.DataFrame({'tweets':processed_tweets, 'label':tweets['labels']})\n",
    "print(processed_df.shape)\n",
    "processed_df.drop_duplicates(inplace=True)\n",
    "print(processed_df.shape)"
   ]
  },
  {
   "cell_type": "code",
   "execution_count": 8,
   "id": "ab6bb915",
   "metadata": {
    "execution": {
     "iopub.execute_input": "2022-12-05T04:36:47.890485Z",
     "iopub.status.busy": "2022-12-05T04:36:47.890087Z",
     "iopub.status.idle": "2022-12-05T04:36:48.432300Z",
     "shell.execute_reply": "2022-12-05T04:36:48.431304Z"
    },
    "papermill": {
     "duration": 0.549824,
     "end_time": "2022-12-05T04:36:48.435090",
     "exception": false,
     "start_time": "2022-12-05T04:36:47.885266",
     "status": "completed"
    },
    "tags": []
   },
   "outputs": [],
   "source": [
    "processed_df.to_csv('processed_tweets.csv', index=False)"
   ]
  }
 ],
 "metadata": {
  "kernelspec": {
   "display_name": "Python 3",
   "language": "python",
   "name": "python3"
  },
  "language_info": {
   "codemirror_mode": {
    "name": "ipython",
    "version": 3
   },
   "file_extension": ".py",
   "mimetype": "text/x-python",
   "name": "python",
   "nbconvert_exporter": "python",
   "pygments_lexer": "ipython3",
   "version": "3.7.12"
  },
  "papermill": {
   "default_parameters": {},
   "duration": 2053.297792,
   "end_time": "2022-12-05T04:36:51.564906",
   "environment_variables": {},
   "exception": null,
   "input_path": "__notebook__.ipynb",
   "output_path": "__notebook__.ipynb",
   "parameters": {},
   "start_time": "2022-12-05T04:02:38.267114",
   "version": "2.3.4"
  }
 },
 "nbformat": 4,
 "nbformat_minor": 5
}
